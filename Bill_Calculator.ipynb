{
  "nbformat": 4,
  "nbformat_minor": 0,
  "metadata": {
    "colab": {
      "provenance": []
    },
    "kernelspec": {
      "name": "python3",
      "display_name": "Python 3"
    },
    "language_info": {
      "name": "python"
    }
  },
  "cells": [
    {
      "cell_type": "code",
      "execution_count": null,
      "metadata": {
        "id": "3j3Pu14baNCc"
      },
      "outputs": [],
      "source": [
        "# Calculates the bill amount per person\n",
        "\n",
        "print(\"Welcome to the tip calculator.\")\n",
        "bill = float(input(\"What was the total bill?\\n$\"))\n",
        "tip_percent = float(input(\"What percentage tip would you like to give?\\n\"))\n",
        "person = int(input(\"How many people to split the bill?\\n\"))\n",
        "bill_per_person = (bill+(bill*(tip_percent/100)))/person\n",
        "final_amount_per_person = \"{:.2f}\".format(bill_per_person)\n",
        "print(f\"Each person should pay ${final_amount_per_person}.\")"
      ]
    }
  ]
}