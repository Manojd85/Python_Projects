{
  "nbformat": 4,
  "nbformat_minor": 0,
  "metadata": {
    "colab": {
      "provenance": []
    },
    "kernelspec": {
      "name": "python3",
      "display_name": "Python 3"
    },
    "language_info": {
      "name": "python"
    }
  },
  "cells": [
    {
      "cell_type": "code",
      "execution_count": null,
      "metadata": {
        "id": "1GCDm3BbPc6t"
      },
      "outputs": [],
      "source": [
        "# Generates a band name based on city and pet names.\n",
        "\n",
        "print(\"Welcome to the Band Name Generator.\")\n",
        "city_name = input(\"What's the name of the city you grew up in?\\n\")\n",
        "pet_name = input(\"What's your pet name?\\n\")\n",
        "print(f\"Your band name could be {city_name} {pet_name}.\")"
      ]
    }
  ]
}